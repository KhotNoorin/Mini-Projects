{
  "nbformat": 4,
  "nbformat_minor": 0,
  "metadata": {
    "colab": {
      "provenance": [],
      "gpuType": "T4",
      "authorship_tag": "ABX9TyMxPU9InGSYIxqFnPfWaWb8",
      "include_colab_link": true
    },
    "kernelspec": {
      "name": "python3",
      "display_name": "Python 3"
    },
    "language_info": {
      "name": "python"
    },
    "accelerator": "GPU"
  },
  "cells": [
    {
      "cell_type": "markdown",
      "metadata": {
        "id": "view-in-github",
        "colab_type": "text"
      },
      "source": [
        "<a href=\"https://colab.research.google.com/github/KhotNoorin/Mini-Projects/blob/main/Sentiment_Analysis_using_RNN.ipynb\" target=\"_parent\"><img src=\"https://colab.research.google.com/assets/colab-badge.svg\" alt=\"Open In Colab\"/></a>"
      ]
    },
    {
      "cell_type": "code",
      "execution_count": null,
      "metadata": {
        "id": "YvfWIrXxgHZl"
      },
      "outputs": [],
      "source": [
        "!pip install -q seaborn"
      ]
    },
    {
      "cell_type": "code",
      "source": [
        "import numpy as np\n",
        "import pandas as pd\n",
        "import matplotlib.pyplot as plt\n",
        "import seaborn as sns\n",
        "import tensorflow as tf\n",
        "from tensorflow.keras.models import Sequential\n",
        "from tensorflow.keras.layers import Embedding, SimpleRNN, Dense, Dropout\n",
        "from tensorflow.keras.preprocessing.text import Tokenizer\n",
        "from tensorflow.keras.preprocessing.sequence import pad_sequences\n",
        "from sklearn.model_selection import train_test_split\n",
        "from sklearn.metrics import confusion_matrix, classification_report, accuracy_score"
      ],
      "metadata": {
        "id": "ERQjd2SShFlL"
      },
      "execution_count": null,
      "outputs": []
    },
    {
      "cell_type": "markdown",
      "source": [
        "# Load IMDb Dataset"
      ],
      "metadata": {
        "id": "ZXZ-ZkLvhs8a"
      }
    },
    {
      "cell_type": "code",
      "source": [
        "from tensorflow.keras.datasets import imdb"
      ],
      "metadata": {
        "id": "BjAdnKHAhOnX"
      },
      "execution_count": null,
      "outputs": []
    },
    {
      "cell_type": "code",
      "source": [
        "# Keep only the top 10,000 most frequently occurring words\n",
        "vocab_size = 10000\n",
        "(x_train, y_train), (x_test, y_test) = imdb.load_data(num_words=vocab_size)"
      ],
      "metadata": {
        "colab": {
          "base_uri": "https://localhost:8080/"
        },
        "id": "7G9u8tbAhRxn",
        "outputId": "9756879e-0db5-437b-aba4-1dd77a745d5e"
      },
      "execution_count": null,
      "outputs": [
        {
          "output_type": "stream",
          "name": "stdout",
          "text": [
            "Downloading data from https://storage.googleapis.com/tensorflow/tf-keras-datasets/imdb.npz\n",
            "\u001b[1m17464789/17464789\u001b[0m \u001b[32m━━━━━━━━━━━━━━━━━━━━\u001b[0m\u001b[37m\u001b[0m \u001b[1m0s\u001b[0m 0us/step\n"
          ]
        }
      ]
    },
    {
      "cell_type": "code",
      "source": [
        "# Decode example review (to understand what tokens mean)\n",
        "word_index = imdb.get_word_index()\n",
        "reverse_word_index = {value: key for key, value in word_index.items()}"
      ],
      "metadata": {
        "colab": {
          "base_uri": "https://localhost:8080/"
        },
        "id": "4TV1yGKChUiw",
        "outputId": "59bd570e-da2f-456c-bfa8-1f0f47dfd24d"
      },
      "execution_count": null,
      "outputs": [
        {
          "output_type": "stream",
          "name": "stdout",
          "text": [
            "Downloading data from https://storage.googleapis.com/tensorflow/tf-keras-datasets/imdb_word_index.json\n",
            "\u001b[1m1641221/1641221\u001b[0m \u001b[32m━━━━━━━━━━━━━━━━━━━━\u001b[0m\u001b[37m\u001b[0m \u001b[1m0s\u001b[0m 0us/step\n"
          ]
        }
      ]
    },
    {
      "cell_type": "code",
      "source": [
        "def decode_review(text):\n",
        "    return ' '.join([reverse_word_index.get(i - 3, '?') for i in text])"
      ],
      "metadata": {
        "id": "OiIxrED-hZB4"
      },
      "execution_count": null,
      "outputs": []
    },
    {
      "cell_type": "code",
      "source": [
        "print(\"Example decoded review:\")\n",
        "print(decode_review(x_train[0]))"
      ],
      "metadata": {
        "colab": {
          "base_uri": "https://localhost:8080/"
        },
        "id": "JJ2ahXn3hb84",
        "outputId": "62c2951a-d8bf-4148-f7fc-75982792b898"
      },
      "execution_count": null,
      "outputs": [
        {
          "output_type": "stream",
          "name": "stdout",
          "text": [
            "Example decoded review:\n",
            "? this film was just brilliant casting location scenery story direction everyone's really suited the part they played and you could just imagine being there robert ? is an amazing actor and now the same being director ? father came from the same scottish island as myself so i loved the fact there was a real connection with this film the witty remarks throughout the film were great it was just brilliant so much that i bought the film as soon as it was released for ? and would recommend it to everyone to watch and the fly fishing was amazing really cried at the end it was so sad and you know what they say if you cry at a film it must have been good and this definitely was also ? to the two little boy's that played the ? of norman and paul they were just brilliant children are often left out of the ? list i think because the stars that play them all grown up are such a big profile for the whole film but these children are amazing and should be praised for what they have done don't you think the whole story was so lovely because it was true and was someone's life after all that was shared with us all\n"
          ]
        }
      ]
    },
    {
      "cell_type": "markdown",
      "source": [
        "# Preprocess Text Data (Padding)"
      ],
      "metadata": {
        "id": "6mBWefA8hw9k"
      }
    },
    {
      "cell_type": "code",
      "source": [
        "# Maximum sequence length (truncate or pad)\n",
        "maxlen = 200"
      ],
      "metadata": {
        "id": "j9uuNTM8hdph"
      },
      "execution_count": null,
      "outputs": []
    },
    {
      "cell_type": "code",
      "source": [
        "# Pad sequences to ensure equal length\n",
        "x_train = pad_sequences(x_train, maxlen=maxlen)\n",
        "x_test = pad_sequences(x_test, maxlen=maxlen)"
      ],
      "metadata": {
        "id": "8BEgSAM2hiB6"
      },
      "execution_count": null,
      "outputs": []
    },
    {
      "cell_type": "code",
      "source": [
        "x_val, x_test_final, y_val, y_test_final = train_test_split(x_test, y_test, test_size=0.5, random_state=42)"
      ],
      "metadata": {
        "id": "Kg_0DBkThj0Q"
      },
      "execution_count": null,
      "outputs": []
    },
    {
      "cell_type": "markdown",
      "source": [
        "# Build the RNN Model"
      ],
      "metadata": {
        "id": "TQ9OB3O8hzd2"
      }
    },
    {
      "cell_type": "code",
      "source": [
        "vocab_size = 10000\n",
        "embedding_dim = 64"
      ],
      "metadata": {
        "id": "JaVQF9GFiX7S"
      },
      "execution_count": null,
      "outputs": []
    },
    {
      "cell_type": "code",
      "source": [
        "model = Sequential([\n",
        "    Embedding(input_dim=vocab_size, output_dim=embedding_dim, input_length=maxlen),\n",
        "    SimpleRNN(64, return_sequences=False),\n",
        "    Dropout(0.5),\n",
        "    Dense(64, activation='relu'),\n",
        "    Dense(1, activation='sigmoid')\n",
        "])"
      ],
      "metadata": {
        "colab": {
          "base_uri": "https://localhost:8080/"
        },
        "id": "lKW1H8SShmNq",
        "outputId": "58174eb8-a4e8-440d-9f70-a16b2399ead8"
      },
      "execution_count": null,
      "outputs": [
        {
          "output_type": "stream",
          "name": "stderr",
          "text": [
            "/usr/local/lib/python3.11/dist-packages/keras/src/layers/core/embedding.py:90: UserWarning: Argument `input_length` is deprecated. Just remove it.\n",
            "  warnings.warn(\n"
          ]
        }
      ]
    },
    {
      "cell_type": "code",
      "source": [
        "model.compile(loss='binary_crossentropy', optimizer='adam', metrics=['accuracy'])"
      ],
      "metadata": {
        "id": "BSzqiULch106"
      },
      "execution_count": null,
      "outputs": []
    },
    {
      "cell_type": "markdown",
      "source": [
        "# Train the Model"
      ],
      "metadata": {
        "id": "mHQxLGQnjB7X"
      }
    },
    {
      "cell_type": "code",
      "source": [
        "history = model.fit(\n",
        "    x_train, y_train,\n",
        "    epochs=5,\n",
        "    batch_size=128,\n",
        "    validation_data=(x_val, y_val)\n",
        ")"
      ],
      "metadata": {
        "colab": {
          "base_uri": "https://localhost:8080/"
        },
        "id": "gfL7_Tjdh3u5",
        "outputId": "a5a05d4b-6bbe-4159-edab-f46878490701"
      },
      "execution_count": null,
      "outputs": [
        {
          "output_type": "stream",
          "name": "stdout",
          "text": [
            "Epoch 1/5\n",
            "\u001b[1m196/196\u001b[0m \u001b[32m━━━━━━━━━━━━━━━━━━━━\u001b[0m\u001b[37m\u001b[0m \u001b[1m24s\u001b[0m 104ms/step - accuracy: 0.6028 - loss: 0.6372 - val_accuracy: 0.8128 - val_loss: 0.4244\n",
            "Epoch 2/5\n",
            "\u001b[1m196/196\u001b[0m \u001b[32m━━━━━━━━━━━━━━━━━━━━\u001b[0m\u001b[37m\u001b[0m \u001b[1m49s\u001b[0m 146ms/step - accuracy: 0.8477 - loss: 0.3657 - val_accuracy: 0.8452 - val_loss: 0.3728\n",
            "Epoch 3/5\n",
            "\u001b[1m196/196\u001b[0m \u001b[32m━━━━━━━━━━━━━━━━━━━━\u001b[0m\u001b[37m\u001b[0m \u001b[1m23s\u001b[0m 115ms/step - accuracy: 0.8991 - loss: 0.2656 - val_accuracy: 0.8394 - val_loss: 0.3947\n",
            "Epoch 4/5\n",
            "\u001b[1m196/196\u001b[0m \u001b[32m━━━━━━━━━━━━━━━━━━━━\u001b[0m\u001b[37m\u001b[0m \u001b[1m18s\u001b[0m 94ms/step - accuracy: 0.9270 - loss: 0.1972 - val_accuracy: 0.8266 - val_loss: 0.4746\n",
            "Epoch 5/5\n",
            "\u001b[1m196/196\u001b[0m \u001b[32m━━━━━━━━━━━━━━━━━━━━\u001b[0m\u001b[37m\u001b[0m \u001b[1m20s\u001b[0m 102ms/step - accuracy: 0.9606 - loss: 0.1171 - val_accuracy: 0.7747 - val_loss: 0.5782\n"
          ]
        }
      ]
    },
    {
      "cell_type": "markdown",
      "source": [
        "# Evaluate the Model"
      ],
      "metadata": {
        "id": "ByE8SmzdjGs9"
      }
    },
    {
      "cell_type": "code",
      "source": [
        "# Predict on test set\n",
        "y_pred_probs = model.predict(x_test_final)\n",
        "y_pred = (y_pred_probs > 0.5).astype(int).reshape(-1)"
      ],
      "metadata": {
        "colab": {
          "base_uri": "https://localhost:8080/"
        },
        "id": "Cq_gBryvh5MK",
        "outputId": "fddafc4c-2268-45b5-ff7e-177df9c7c563"
      },
      "execution_count": null,
      "outputs": [
        {
          "output_type": "stream",
          "name": "stdout",
          "text": [
            "\u001b[1m391/391\u001b[0m \u001b[32m━━━━━━━━━━━━━━━━━━━━\u001b[0m\u001b[37m\u001b[0m \u001b[1m5s\u001b[0m 11ms/step\n"
          ]
        }
      ]
    },
    {
      "cell_type": "code",
      "source": [
        "print(\"Test Accuracy:\", accuracy_score(y_test_final, y_pred))"
      ],
      "metadata": {
        "colab": {
          "base_uri": "https://localhost:8080/"
        },
        "id": "kwTF_wPGjJpY",
        "outputId": "614d1cc1-c959-48dc-bacf-905d35c9c470"
      },
      "execution_count": null,
      "outputs": [
        {
          "output_type": "stream",
          "name": "stdout",
          "text": [
            "Test Accuracy: 0.78056\n"
          ]
        }
      ]
    },
    {
      "cell_type": "code",
      "source": [
        "# Confusion Matrix\n",
        "cm = confusion_matrix(y_test_final, y_pred)\n",
        "sns.heatmap(cm, annot=True, fmt='d', cmap='Blues')\n",
        "plt.title(\"Confusion Matrix\")\n",
        "plt.xlabel(\"Predicted\")\n",
        "plt.ylabel(\"Actual\")\n",
        "plt.show()"
      ],
      "metadata": {
        "colab": {
          "base_uri": "https://localhost:8080/",
          "height": 472
        },
        "id": "1gBZZEd4jLYQ",
        "outputId": "ab62b3f1-349c-436d-e233-a629720967d5"
      },
      "execution_count": null,
      "outputs": [
        {
          "output_type": "display_data",
          "data": {
            "text/plain": [
              "<Figure size 640x480 with 2 Axes>"
            ],
            "image/png": "[encoded data removed]"
          },
          "metadata": {}
        }
      ]
    },
    {
      "cell_type": "code",
      "source": [
        "print(\"Classification Report:\\n\")\n",
        "print(classification_report(y_test_final, y_pred))"
      ],
      "metadata": {
        "colab": {
          "base_uri": "https://localhost:8080/"
        },
        "id": "jo8XOefUjNA0",
        "outputId": "68edbb0f-abfd-4af6-ca2e-ef1b58052d3b"
      },
      "execution_count": null,
      "outputs": [
        {
          "output_type": "stream",
          "name": "stdout",
          "text": [
            "\n",
            "Classification Report:\n",
            "\n",
            "              precision    recall  f1-score   support\n",
            "\n",
            "           0       0.79      0.77      0.78      6227\n",
            "           1       0.77      0.80      0.78      6273\n",
            "\n",
            "    accuracy                           0.78     12500\n",
            "   macro avg       0.78      0.78      0.78     12500\n",
            "weighted avg       0.78      0.78      0.78     12500\n",
            "\n"
          ]
        }
      ]
    },
    {
      "cell_type": "code",
      "source": [
        "# Accuracy plot\n",
        "plt.figure(figsize=(14, 5))\n",
        "plt.subplot(1, 2, 1)\n",
        "plt.plot(history.history['accuracy'], label='Train Acc')\n",
        "plt.plot(history.history['val_accuracy'], label='Val Acc')\n",
        "plt.title('Model Accuracy')\n",
        "plt.xlabel('Epoch')\n",
        "plt.ylabel('Accuracy')\n",
        "plt.legend()"
      ],
      "metadata": {
        "colab": {
          "base_uri": "https://localhost:8080/",
          "height": 504
        },
        "id": "kkKp0ngFjO7b",
        "outputId": "6d217855-6b9a-423f-fc13-a745190e6404"
      },
      "execution_count": null,
      "outputs": [
        {
          "output_type": "execute_result",
          "data": {
            "text/plain": [
              "<matplotlib.legend.Legend at 0x7ad301e21790>"
            ]
          },
          "metadata": {},
          "execution_count": 20
        },
        {
          "output_type": "display_data",
          "data": {
            "text/plain": [
              "<Figure size 1400x500 with 1 Axes>"
            ],
            "image/png": "[encoded data removed]"
          },
          "metadata": {}
        }
      ]
    },
    {
      "cell_type": "code",
      "source": [
        "# Loss plot\n",
        "plt.subplot(1, 2, 2)\n",
        "plt.plot(history.history['loss'], label='Train Loss')\n",
        "plt.plot(history.history['val_loss'], label='Val Loss')\n",
        "plt.title('Model Loss')\n",
        "plt.xlabel('Epoch')\n",
        "plt.ylabel('Loss')\n",
        "plt.legend()\n",
        "\n",
        "plt.tight_layout()\n",
        "plt.show()"
      ],
      "metadata": {
        "colab": {
          "base_uri": "https://localhost:8080/",
          "height": 487
        },
        "id": "awUtJuDUjSeA",
        "outputId": "1289c286-8535-48ac-86b5-a182afc01209"
      },
      "execution_count": null,
      "outputs": [
        {
          "output_type": "display_data",
          "data": {
            "text/plain": [
              "<Figure size 640x480 with 1 Axes>"
            ],
            "image/png": "[encoded data removed]"
          },
          "metadata": {}
        }
      ]
    },
    {
      "cell_type": "markdown",
      "source": [
        "\n",
        "\n",
        "---\n",
        "\n",
        "# From Scratch\n",
        "\n",
        "---\n",
        "\n"
      ],
      "metadata": {
        "id": "AJxRJbRGj3H2"
      }
    },
    {
      "cell_type": "code",
      "source": [
        "import numpy as np\n",
        "import matplotlib.pyplot as plt\n",
        "from sklearn.model_selection import train_test_split\n",
        "from sklearn.metrics import accuracy_score, confusion_matrix, ConfusionMatrixDisplay"
      ],
      "metadata": {
        "id": "yhOjIDMhjVb0"
      },
      "execution_count": null,
      "outputs": []
    },
    {
      "cell_type": "code",
      "source": [
        "data = [\n",
        "    (\"i love this movie\", 1), (\"this film was fantastic\", 1), (\"brilliant acting\", 1), (\"great direction\", 1),\n",
        "    (\"i enjoyed every minute\", 1), (\"what a masterpiece\", 1), (\"the story was gripping\", 1), (\"excellent plot\", 1),\n",
        "    (\"superb movie experience\", 1), (\"outstanding cast\", 1), (\"amazing cinematography\", 1), (\"i was moved\", 1),\n",
        "    (\"incredible script\", 1), (\"great soundtrack\", 1), (\"beautiful visuals\", 1), (\"truly inspiring\", 1),\n",
        "    (\"emotional and powerful\", 1), (\"just perfect\", 1), (\"mind-blowing\", 1), (\"definitely recommend\", 1),\n",
        "\n",
        "    (\"i liked the movie\", 1), (\"good film\", 1), (\"worth watching\", 1), (\"liked the story\", 1),\n",
        "    (\"good direction\", 1), (\"well made\", 1), (\"strong characters\", 1), (\"fantastic performance\", 1),\n",
        "    (\"great experience\", 1), (\"nicely done\", 1),\n",
        "\n",
        "    (\"i hated this movie\", 0), (\"this film was terrible\", 0), (\"poor acting\", 0), (\"bad direction\", 0),\n",
        "    (\"boring and slow\", 0), (\"what a disaster\", 0), (\"the story was nonsense\", 0), (\"weak plot\", 0),\n",
        "    (\"awful movie experience\", 0), (\"horrible cast\", 0), (\"terrible cinematography\", 0), (\"i was annoyed\", 0),\n",
        "    (\"ridiculous script\", 0), (\"bad soundtrack\", 0), (\"ugly visuals\", 0), (\"utterly disappointing\", 0),\n",
        "    (\"emotionless and dull\", 0), (\"just awful\", 0), (\"mind-numbing\", 0), (\"do not recommend\", 0),\n",
        "\n",
        "    (\"i disliked the movie\", 0), (\"waste of time\", 0), (\"not worth watching\", 0), (\"hated the story\", 0),\n",
        "    (\"poorly directed\", 0), (\"badly made\", 0), (\"flat characters\", 0), (\"terrible performance\", 0),\n",
        "    (\"bad experience\", 0), (\"badly done\", 0),\n",
        "\n",
        "    (\"movie was good\", 1), (\"loved the acting\", 1), (\"script was tight\", 1), (\"the film was enjoyable\", 1),\n",
        "    (\"impressive visuals\", 1), (\"highly entertaining\", 1), (\"deep message\", 1), (\"very well directed\", 1),\n",
        "    (\"top-notch cast\", 1), (\"beautiful story\", 1),\n",
        "\n",
        "    (\"movie was bad\", 0), (\"hated the acting\", 0), (\"script was loose\", 0), (\"the film was boring\", 0),\n",
        "    (\"unimpressive visuals\", 0), (\"poorly written\", 0), (\"shallow message\", 0), (\"very poorly directed\", 0),\n",
        "    (\"terrible cast\", 0), (\"horrible story\", 0),\n",
        "\n",
        "    (\"it was okay\", 1), (\"not bad\", 1), (\"pretty good\", 1), (\"somewhat liked it\", 1), (\"a bit slow but nice\", 1),\n",
        "    (\"could be better\", 0), (\"not impressive\", 0), (\"didn’t enjoy it\", 0), (\"not engaging\", 0), (\"forgettable\", 0),\n",
        "]"
      ],
      "metadata": {
        "id": "kxznmBrTkA6a"
      },
      "execution_count": null,
      "outputs": []
    },
    {
      "cell_type": "markdown",
      "source": [
        "# Preprocessing"
      ],
      "metadata": {
        "id": "3F8vLomNkEi6"
      }
    },
    {
      "cell_type": "code",
      "source": [
        "# Tokenize and vocab\n",
        "tokenized = [sentence.split() for sentence, _ in data]\n",
        "vocab = sorted(set(word for sent in tokenized for word in sent))\n",
        "word2idx = {w: i for i, w in enumerate(vocab)}\n",
        "vocab_size = len(vocab)\n",
        "\n",
        "max_len = max(len(sent) for sent in tokenized)\n",
        "def encode(sentence):\n",
        "    return [word2idx[word] for word in sentence] + [0]*(max_len - len(sentence))"
      ],
      "metadata": {
        "id": "pRZE3M22kC3E"
      },
      "execution_count": null,
      "outputs": []
    },
    {
      "cell_type": "code",
      "source": [
        "X = np.array([encode(sent) for sent in tokenized])\n",
        "y = np.array([label for _, label in data]).reshape(-1, 1)"
      ],
      "metadata": {
        "id": "ZyTpjFC1kKWp"
      },
      "execution_count": null,
      "outputs": []
    },
    {
      "cell_type": "code",
      "source": [
        "X_train, X_test, y_train, y_test = train_test_split(X, y, test_size=0.3, random_state=42)"
      ],
      "metadata": {
        "id": "RhrJBhjDkMQy"
      },
      "execution_count": null,
      "outputs": []
    },
    {
      "cell_type": "markdown",
      "source": [
        "# RNN model"
      ],
      "metadata": {
        "id": "tHfmEY3ckQv0"
      }
    },
    {
      "cell_type": "code",
      "source": [
        "# Parameters\n",
        "embed_size = 10\n",
        "hidden_size = 16\n",
        "epochs = 100\n",
        "lr = 0.01"
      ],
      "metadata": {
        "id": "UmfMgTT0kOZk"
      },
      "execution_count": null,
      "outputs": []
    },
    {
      "cell_type": "code",
      "source": [
        "np.random.seed(1)\n",
        "E = np.random.randn(vocab_size, embed_size)\n",
        "Wx = np.random.randn(embed_size, hidden_size)\n",
        "Wh = np.random.randn(hidden_size, hidden_size)\n",
        "bh = np.zeros((1, hidden_size))\n",
        "Wo = np.random.randn(hidden_size, 1)\n",
        "bo = np.zeros((1, 1))"
      ],
      "metadata": {
        "id": "U7-hgjwTkUSc"
      },
      "execution_count": null,
      "outputs": []
    },
    {
      "cell_type": "code",
      "source": [
        "# Activation functions\n",
        "def sigmoid(x): return 1 / (1 + np.exp(-x))\n",
        "def dsigmoid(x): return sigmoid(x) * (1 - sigmoid(x))\n",
        "def tanh(x): return np.tanh(x)\n",
        "def dtanh(x): return 1 - np.tanh(x) ** 2\n",
        "def binary_cross_entropy(pred, label):\n",
        "    return -np.mean(label * np.log(pred + 1e-8) + (1 - label) * np.log(1 - pred + 1e-8))"
      ],
      "metadata": {
        "id": "quVhKs2jkXBN"
      },
      "execution_count": null,
      "outputs": []
    },
    {
      "cell_type": "markdown",
      "source": [
        "# Training Loop"
      ],
      "metadata": {
        "id": "85hP1WAAkaho"
      }
    },
    {
      "cell_type": "code",
      "source": [
        "losses = []"
      ],
      "metadata": {
        "id": "84dp9aaEkgUO"
      },
      "execution_count": null,
      "outputs": []
    },
    {
      "cell_type": "code",
      "source": [
        "for epoch in range(epochs):\n",
        "    total_loss = 0\n",
        "    for i in range(len(X_train)):\n",
        "        inputs = X_train[i]\n",
        "        target = y_train[i]\n",
        "\n",
        "        # Forward\n",
        "        h = np.zeros((max_len + 1, hidden_size))\n",
        "        for t in range(len(inputs)):\n",
        "            xt = E[inputs[t]]\n",
        "            h[t+1] = tanh(np.dot(xt, Wx) + np.dot(h[t], Wh) + bh)\n",
        "\n",
        "        y_pred = sigmoid(np.dot(h[len(inputs)], Wo) + bo)\n",
        "        loss = binary_cross_entropy(y_pred, target)\n",
        "        total_loss += loss\n",
        "\n",
        "        # Backprop\n",
        "        dWo = (y_pred - target) * h[len(inputs)].reshape(-1, 1)\n",
        "        dbo = (y_pred - target)\n",
        "\n",
        "        dWh = np.zeros_like(Wh)\n",
        "        dWx = np.zeros_like(Wx)\n",
        "        dE = np.zeros_like(E)\n",
        "        dbh = np.zeros_like(bh)\n",
        "        dh_next = np.zeros_like(h[0])\n",
        "\n",
        "        for t in reversed(range(len(inputs))):\n",
        "          xt = E[inputs[t]]\n",
        "          dh = ((y_pred - target) * Wo.T + dh_next)\n",
        "          dt = dh * dtanh(np.dot(xt, Wx) + np.dot(h[t], Wh) + bh)\n",
        "\n",
        "          dWh += np.outer(h[t], dt)\n",
        "          dWx += np.outer(xt, dt)\n",
        "          dbh += dt\n",
        "          dE[inputs[t]] += np.dot(dt, Wx.T).flatten()  # ✅ fixed here\n",
        "          dh_next = np.dot(dt, Wh.T)\n",
        "\n",
        "\n",
        "        # Update\n",
        "        Wo -= lr * dWo\n",
        "        bo -= lr * dbo\n",
        "        Wh -= lr * dWh\n",
        "        Wx -= lr * dWx\n",
        "        bh -= lr * dbh\n",
        "        E -= lr * dE\n",
        "\n",
        "    avg_loss = total_loss / len(X_train)\n",
        "    losses.append(avg_loss)\n",
        "    if epoch % 10 == 0 or epoch == epochs - 1:\n",
        "        print(f\"Epoch {epoch+1}/{epochs} - Loss: {avg_loss:.4f}\")"
      ],
      "metadata": {
        "colab": {
          "base_uri": "https://localhost:8080/"
        },
        "id": "wJrxrd5DkY6d",
        "outputId": "505a01d1-8971-4e40-d729-311f14bd1823"
      },
      "execution_count": null,
      "outputs": [
        {
          "output_type": "stream",
          "name": "stdout",
          "text": [
            "Epoch 1/100 - Loss: 1.3757\n",
            "Epoch 11/100 - Loss: 0.3386\n",
            "Epoch 21/100 - Loss: 0.1738\n",
            "Epoch 31/100 - Loss: 0.0675\n",
            "Epoch 41/100 - Loss: 0.0468\n",
            "Epoch 51/100 - Loss: 0.0336\n",
            "Epoch 61/100 - Loss: 0.0219\n",
            "Epoch 71/100 - Loss: 0.0148\n",
            "Epoch 81/100 - Loss: 0.0118\n",
            "Epoch 91/100 - Loss: 0.0084\n",
            "Epoch 100/100 - Loss: 0.0073\n"
          ]
        }
      ]
    },
    {
      "cell_type": "code",
      "source": [
        "plt.plot(losses)\n",
        "plt.xlabel(\"Epochs\")\n",
        "plt.ylabel(\"Loss\")\n",
        "plt.title(\"Training Loss Curve\")\n",
        "plt.grid(True)\n",
        "plt.show()"
      ],
      "metadata": {
        "colab": {
          "base_uri": "https://localhost:8080/",
          "height": 472
        },
        "id": "jZDWmYKRkhUi",
        "outputId": "b444a391-0c01-40c9-bb2f-8b3a9c8bb2f1"
      },
      "execution_count": null,
      "outputs": [
        {
          "output_type": "display_data",
          "data": {
            "text/plain": [
              "<Figure size 640x480 with 1 Axes>"
            ],
            "image/png": "[encoded data removed]"
          },
          "metadata": {}
        }
      ]
    },
    {
      "cell_type": "code",
      "source": [
        "# Predict all samples and evaluate\n",
        "all_X = np.array([encode(sent.split()) for sent, _ in data])\n",
        "all_y = np.array([label for _, label in data])\n",
        "\n",
        "all_preds = []\n",
        "all_scores = []"
      ],
      "metadata": {
        "id": "XeMW3p8ClPI6"
      },
      "execution_count": null,
      "outputs": []
    },
    {
      "cell_type": "code",
      "source": [
        "for i in range(len(all_X)):\n",
        "    inputs = all_X[i]\n",
        "    h = np.zeros((max_len + 1, hidden_size))\n",
        "    for t in range(len(inputs)):\n",
        "        xt = E[inputs[t]]\n",
        "        h[t+1] = tanh(np.dot(xt, Wx) + np.dot(h[t], Wh) + bh)\n",
        "    y_pred = sigmoid(np.dot(h[len(inputs)], Wo) + bo)\n",
        "    all_scores.append(y_pred[0][0])\n",
        "    all_preds.append(1 if y_pred[0][0] >= 0.5 else 0)"
      ],
      "metadata": {
        "id": "B1iCtAHUlUCs"
      },
      "execution_count": null,
      "outputs": []
    },
    {
      "cell_type": "code",
      "source": [
        "# Evaluate\n",
        "from sklearn.metrics import accuracy_score, confusion_matrix, ConfusionMatrixDisplay"
      ],
      "metadata": {
        "id": "yISqj4Xkm8ZI"
      },
      "execution_count": null,
      "outputs": []
    },
    {
      "cell_type": "code",
      "source": [
        "acc = accuracy_score(all_y, all_preds)\n",
        "print(\"Overall Accuracy on Full 100+ Sample Dataset:\", round(acc * 100, 2), \"%\")"
      ],
      "metadata": {
        "colab": {
          "base_uri": "https://localhost:8080/"
        },
        "id": "QlVCEyzkm-9-",
        "outputId": "512a9055-38d9-445c-c69c-9d01ca37f921"
      },
      "execution_count": null,
      "outputs": [
        {
          "output_type": "stream",
          "name": "stdout",
          "text": [
            "Overall Accuracy on Full 100+ Sample Dataset: 84.44 %\n"
          ]
        }
      ]
    },
    {
      "cell_type": "code",
      "source": [
        "# Confusion Matrix\n",
        "cm = confusion_matrix(all_y, all_preds)\n",
        "disp = ConfusionMatrixDisplay(confusion_matrix=cm, display_labels=[\"Negative\", \"Positive\"])\n",
        "disp.plot(cmap=\"Blues\")\n",
        "plt.title(\"Full Dataset Confusion Matrix\")\n",
        "plt.show()"
      ],
      "metadata": {
        "colab": {
          "base_uri": "https://localhost:8080/",
          "height": 472
        },
        "id": "kFrJ-qOnlZYu",
        "outputId": "5832bfa3-27d2-4738-a35b-ad3da7bd08b5"
      },
      "execution_count": null,
      "outputs": [
        {
          "output_type": "display_data",
          "data": {
            "text/plain": [
              "<Figure size 640x480 with 2 Axes>"
            ],
            "image/png": "[encoded data removed]"
          },
          "metadata": {}
        }
      ]
    },
    {
      "cell_type": "code",
      "source": [
        "print(\"Mismatched Predictions:\")\n",
        "for i, (true, pred, score) in enumerate(zip(all_y, all_preds, all_scores)):\n",
        "    if true != pred:\n",
        "        print(f\"{i+1:02d}. True: {true}, Pred: {pred}, Score: {score:.2f}, Sentence: \\\"{data[i][0]}\\\"\")"
      ],
      "metadata": {
        "colab": {
          "base_uri": "https://localhost:8080/"
        },
        "id": "dKw3_qiAnURb",
        "outputId": "59458d8a-f43a-44cd-ecce-f81a33bda95f"
      },
      "execution_count": null,
      "outputs": [
        {
          "output_type": "stream",
          "name": "stdout",
          "text": [
            "Mismatched Predictions:\n",
            "01. True: 1, Pred: 0, Score: 0.00, Sentence: \"i love this movie\"\n",
            "11. True: 1, Pred: 0, Score: 0.00, Sentence: \"amazing cinematography\"\n",
            "13. True: 1, Pred: 0, Score: 0.00, Sentence: \"incredible script\"\n",
            "23. True: 1, Pred: 0, Score: 0.01, Sentence: \"worth watching\"\n",
            "27. True: 1, Pred: 0, Score: 0.00, Sentence: \"strong characters\"\n",
            "31. True: 0, Pred: 1, Score: 0.80, Sentence: \"i hated this movie\"\n",
            "34. True: 0, Pred: 1, Score: 0.64, Sentence: \"bad direction\"\n",
            "45. True: 0, Pred: 1, Score: 0.95, Sentence: \"ugly visuals\"\n",
            "50. True: 0, Pred: 1, Score: 1.00, Sentence: \"do not recommend\"\n",
            "63. True: 1, Pred: 0, Score: 0.00, Sentence: \"script was tight\"\n",
            "66. True: 1, Pred: 0, Score: 0.00, Sentence: \"highly entertaining\"\n",
            "74. True: 0, Pred: 1, Score: 0.71, Sentence: \"the film was boring\"\n",
            "82. True: 1, Pred: 0, Score: 0.00, Sentence: \"not bad\"\n",
            "87. True: 0, Pred: 1, Score: 0.82, Sentence: \"not impressive\"\n"
          ]
        }
      ]
    },
    {
      "cell_type": "code",
      "source": [
        "print(predict_sentence(\"good film\"))"
      ],
      "metadata": {
        "colab": {
          "base_uri": "https://localhost:8080/"
        },
        "id": "-xzhxzi5lcc1",
        "outputId": "a618ff2d-80ac-4cd7-8abd-aa1f875fb778"
      },
      "execution_count": null,
      "outputs": [
        {
          "output_type": "stream",
          "name": "stdout",
          "text": [
            "0.9989652410423417\n"
          ]
        }
      ]
    },
    {
      "cell_type": "code",
      "source": [
        "print(predict_sentence(\"i disliked\"))"
      ],
      "metadata": {
        "colab": {
          "base_uri": "https://localhost:8080/"
        },
        "id": "J6uQoTrOlfPF",
        "outputId": "da44d88c-657b-445a-ce61-cf0fd38bddc5"
      },
      "execution_count": null,
      "outputs": [
        {
          "output_type": "stream",
          "name": "stdout",
          "text": [
            "0.02638817422721045\n"
          ]
        }
      ]
    },
    {
      "cell_type": "code",
      "source": [
        "print(predict_sentence(\"not good film\"))"
      ],
      "metadata": {
        "colab": {
          "base_uri": "https://localhost:8080/"
        },
        "id": "pEXEVGL-nqbf",
        "outputId": "43c51c25-8763-4cc3-a6e9-f5d8943d5180"
      },
      "execution_count": null,
      "outputs": [
        {
          "output_type": "stream",
          "name": "stdout",
          "text": [
            "0.33006333639569785\n"
          ]
        }
      ]
    },
    {
      "cell_type": "code",
      "source": [
        "print(predict_sentence(\"it was boring\"))"
      ],
      "metadata": {
        "colab": {
          "base_uri": "https://localhost:8080/"
        },
        "id": "GQvoNIvjnufe",
        "outputId": "ef9f4ce1-db17-492e-ae7b-db72d444827f"
      },
      "execution_count": null,
      "outputs": [
        {
          "output_type": "stream",
          "name": "stdout",
          "text": [
            "0.48996131642577584\n"
          ]
        }
      ]
    },
    {
      "cell_type": "code",
      "source": [],
      "metadata": {
        "id": "XTdjVoS7n2nG"
      },
      "execution_count": null,
      "outputs": []
    }
  ]
}